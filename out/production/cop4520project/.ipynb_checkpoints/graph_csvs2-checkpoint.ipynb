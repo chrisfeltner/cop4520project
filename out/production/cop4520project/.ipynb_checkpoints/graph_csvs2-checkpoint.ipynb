{
 "cells": [
  {
   "cell_type": "code",
   "execution_count": 1,
   "metadata": {},
   "outputs": [],
   "source": [
    "import pandas as pd\n",
    "import seaborn as snsj\n",
    "%matplotlib inline\n",
    "import matplotlib.pyplot as plt\n",
    "import numpy as np"
   ]
  },
  {
   "cell_type": "code",
   "execution_count": 2,
   "metadata": {},
   "outputs": [],
   "source": [
    "df = pd.read_csv('LoadFactorTest.csv')\n"
   ]
  },
  {
   "cell_type": "code",
   "execution_count": 3,
   "metadata": {
    "scrolled": true
   },
   "outputs": [
    {
     "data": {
      "text/html": [
       "<div>\n",
       "<style scoped>\n",
       "    .dataframe tbody tr th:only-of-type {\n",
       "        vertical-align: middle;\n",
       "    }\n",
       "\n",
       "    .dataframe tbody tr th {\n",
       "        vertical-align: top;\n",
       "    }\n",
       "\n",
       "    .dataframe thead th {\n",
       "        text-align: right;\n",
       "    }\n",
       "</style>\n",
       "<table border=\"1\" class=\"dataframe\">\n",
       "  <thead>\n",
       "    <tr style=\"text-align: right;\">\n",
       "      <th></th>\n",
       "      <th>num_map</th>\n",
       "      <th>Name</th>\n",
       "      <th>Threads</th>\n",
       "      <th>OperationsPerMilliSecond</th>\n",
       "      <th>LogOperationsPerMilliSecond</th>\n",
       "    </tr>\n",
       "  </thead>\n",
       "  <tbody>\n",
       "    <tr>\n",
       "      <th>0</th>\n",
       "      <td>0</td>\n",
       "      <td>splitOrderHash_MaxLoad_1</td>\n",
       "      <td>1</td>\n",
       "      <td>122327.002095</td>\n",
       "      <td>11.714453</td>\n",
       "    </tr>\n",
       "    <tr>\n",
       "      <th>1</th>\n",
       "      <td>0</td>\n",
       "      <td>splitOrderHash_MaxLoad_1</td>\n",
       "      <td>2</td>\n",
       "      <td>371240.723622</td>\n",
       "      <td>12.824606</td>\n",
       "    </tr>\n",
       "    <tr>\n",
       "      <th>2</th>\n",
       "      <td>0</td>\n",
       "      <td>splitOrderHash_MaxLoad_1</td>\n",
       "      <td>3</td>\n",
       "      <td>36751.342986</td>\n",
       "      <td>10.511930</td>\n",
       "    </tr>\n",
       "    <tr>\n",
       "      <th>3</th>\n",
       "      <td>0</td>\n",
       "      <td>splitOrderHash_MaxLoad_1</td>\n",
       "      <td>4</td>\n",
       "      <td>192697.162920</td>\n",
       "      <td>12.168875</td>\n",
       "    </tr>\n",
       "    <tr>\n",
       "      <th>4</th>\n",
       "      <td>0</td>\n",
       "      <td>splitOrderHash_MaxLoad_1</td>\n",
       "      <td>5</td>\n",
       "      <td>158791.406844</td>\n",
       "      <td>11.975347</td>\n",
       "    </tr>\n",
       "    <tr>\n",
       "      <th>5</th>\n",
       "      <td>0</td>\n",
       "      <td>splitOrderHash_MaxLoad_1</td>\n",
       "      <td>6</td>\n",
       "      <td>58037.058984</td>\n",
       "      <td>10.968837</td>\n",
       "    </tr>\n",
       "    <tr>\n",
       "      <th>6</th>\n",
       "      <td>0</td>\n",
       "      <td>splitOrderHash_MaxLoad_1</td>\n",
       "      <td>7</td>\n",
       "      <td>73400.529071</td>\n",
       "      <td>11.203686</td>\n",
       "    </tr>\n",
       "    <tr>\n",
       "      <th>7</th>\n",
       "      <td>0</td>\n",
       "      <td>splitOrderHash_MaxLoad_1</td>\n",
       "      <td>8</td>\n",
       "      <td>181696.940405</td>\n",
       "      <td>12.110095</td>\n",
       "    </tr>\n",
       "    <tr>\n",
       "      <th>8</th>\n",
       "      <td>0</td>\n",
       "      <td>splitOrderHash_MaxLoad_1</td>\n",
       "      <td>9</td>\n",
       "      <td>126598.463854</td>\n",
       "      <td>11.748776</td>\n",
       "    </tr>\n",
       "    <tr>\n",
       "      <th>9</th>\n",
       "      <td>0</td>\n",
       "      <td>splitOrderHash_MaxLoad_1</td>\n",
       "      <td>10</td>\n",
       "      <td>130562.961377</td>\n",
       "      <td>11.779611</td>\n",
       "    </tr>\n",
       "    <tr>\n",
       "      <th>10</th>\n",
       "      <td>0</td>\n",
       "      <td>splitOrderHash_MaxLoad_1</td>\n",
       "      <td>11</td>\n",
       "      <td>100198.192024</td>\n",
       "      <td>11.514905</td>\n",
       "    </tr>\n",
       "  </tbody>\n",
       "</table>\n",
       "</div>"
      ],
      "text/plain": [
       "    num_map                      Name  Threads  OperationsPerMilliSecond  \\\n",
       "0         0  splitOrderHash_MaxLoad_1        1             122327.002095   \n",
       "1         0  splitOrderHash_MaxLoad_1        2             371240.723622   \n",
       "2         0  splitOrderHash_MaxLoad_1        3              36751.342986   \n",
       "3         0  splitOrderHash_MaxLoad_1        4             192697.162920   \n",
       "4         0  splitOrderHash_MaxLoad_1        5             158791.406844   \n",
       "5         0  splitOrderHash_MaxLoad_1        6              58037.058984   \n",
       "6         0  splitOrderHash_MaxLoad_1        7              73400.529071   \n",
       "7         0  splitOrderHash_MaxLoad_1        8             181696.940405   \n",
       "8         0  splitOrderHash_MaxLoad_1        9             126598.463854   \n",
       "9         0  splitOrderHash_MaxLoad_1       10             130562.961377   \n",
       "10        0  splitOrderHash_MaxLoad_1       11             100198.192024   \n",
       "\n",
       "    LogOperationsPerMilliSecond  \n",
       "0                     11.714453  \n",
       "1                     12.824606  \n",
       "2                     10.511930  \n",
       "3                     12.168875  \n",
       "4                     11.975347  \n",
       "5                     10.968837  \n",
       "6                     11.203686  \n",
       "7                     12.110095  \n",
       "8                     11.748776  \n",
       "9                     11.779611  \n",
       "10                    11.514905  "
      ]
     },
     "execution_count": 3,
     "metadata": {},
     "output_type": "execute_result"
    }
   ],
   "source": [
    "df[df['num_map'] == 0]\n"
   ]
  },
  {
   "cell_type": "code",
   "execution_count": 14,
   "metadata": {},
   "outputs": [],
   "source": [
    "df1 = df[df['Name'] == 'splitOrderHash_MaxLoad_1']"
   ]
  },
  {
   "cell_type": "code",
   "execution_count": 15,
   "metadata": {},
   "outputs": [],
   "source": [
    "df2 = df[df['Name'] == 'splitOrderHash_MaxLoad_2']"
   ]
  },
  {
   "cell_type": "code",
   "execution_count": 16,
   "metadata": {},
   "outputs": [],
   "source": [
    "df4 = df[df['Name'] == 'splitOrderHash_MaxLoad_4']"
   ]
  },
  {
   "cell_type": "code",
   "execution_count": 17,
   "metadata": {},
   "outputs": [],
   "source": [
    "df8 = df[df['Name'] == 'splitOrderHash_MaxLoad_8']"
   ]
  },
  {
   "cell_type": "code",
   "execution_count": 8,
   "metadata": {},
   "outputs": [],
   "source": [
    "df16 = df[df['Name'] == 'splitOrderHash_MaxLoad_16']"
   ]
  },
  {
   "cell_type": "code",
   "execution_count": 9,
   "metadata": {},
   "outputs": [],
   "source": [
    "df1r = df[df['Name'] == 'Refine1'];\n",
    "df2r = df[df['Name'] == 'Refine2'];\n",
    "df4r = df[df['Name'] == 'Refine4'];\n",
    "df8r = df[df['Name'] == 'Refine8'];\n",
    "df16r = df[df['Name'] == 'Refine16'];"
   ]
  },
  {
   "cell_type": "code",
   "execution_count": 10,
   "metadata": {},
   "outputs": [],
   "source": [
    "df1c = df[df['Name'] == 'concHashMap'];\n"
   ]
  },
  {
   "cell_type": "code",
   "execution_count": 11,
   "metadata": {},
   "outputs": [],
   "source": [
    "df1cs = df[df['Name'] == 'concSkipListSet'];\n"
   ]
  },
  {
   "cell_type": "code",
   "execution_count": 12,
   "metadata": {
    "scrolled": false
   },
   "outputs": [
    {
     "data": {
      "text/plain": [
       "<matplotlib.legend.Legend at 0x7f0608cfb910>"
      ]
     },
     "execution_count": 12,
     "metadata": {},
     "output_type": "execute_result"
    },
    {
     "data": {
      "image/png": "[encoded data removed]",
      "text/plain": [
       "<Figure size 432x288 with 1 Axes>"
      ]
     },
     "metadata": {
      "needs_background": "light"
     },
     "output_type": "display_data"
    }
   ],
   "source": [
    "import seaborn as sns\n",
    "palette = sns.color_palette('Greens', 5)\n",
    "\n",
    "fig, axs = plt.subplots(ncols=1)\n",
    "sns.lineplot(x=\"Threads\", y=\"OperationsPerMilliSecond\", marker='p',data=df1,ax=axs, ci=99 , color=palette[0])\n",
    "sns.lineplot(x=\"Threads\", y=\"OperationsPerMilliSecond\", marker='p',data=df2,ax=axs, ci=99 , color=palette[1])\n",
    "sns.lineplot(x=\"Threads\", y=\"OperationsPerMilliSecond\", marker='p',data=df4,ax=axs, ci=99 , color=palette[2])\n",
    "sns.lineplot(x=\"Threads\", y=\"OperationsPerMilliSecond\", marker='p',data=df8,ax=axs, ci=99 , color=palette[3])\n",
    "sns.lineplot(x=\"Threads\", y=\"OperationsPerMilliSecond\", marker='p',data=df16,ax=axs, ci=99, color=palette[4])\n",
    "\n",
    "palette = sns.color_palette('magma', 5)\n",
    "sns.lineplot(x=\"Threads\", y=\"OperationsPerMilliSecond\", marker='',data=df1r,ax=axs, ci=99 , color=palette[0])\n",
    "sns.lineplot(x=\"Threads\", y=\"OperationsPerMilliSecond\", marker='',data=df2r,ax=axs, ci=99 , color=palette[1])\n",
    "sns.lineplot(x=\"Threads\", y=\"OperationsPerMilliSecond\", marker='',data=df4r,ax=axs, ci=99 , color=palette[2])\n",
    "sns.lineplot(x=\"Threads\", y=\"OperationsPerMilliSecond\", marker='',data=df8r,ax=axs, ci=99 , color=palette[3])\n",
    "sns.lineplot(x=\"Threads\", y=\"OperationsPerMilliSecond\", marker='',data=df16r,ax=axs, ci=99, color=palette[4])\n",
    "\n",
    "\n",
    "#sns.lineplot(x=\"Threads\", y=\"OperationsPerMilliSecond\", marker='+',data=df1c,ax=axs, ci=99, color='black')\n",
    "#sns.lineplot(x=\"Threads\", y=\"OperationsPerMilliSecond\", marker='+',data=df1cs,ax=axs, ci=99, color='black')\n",
    "\n",
    "\n",
    "plt.title('Varying Max Loads for Split Ordered Hash Map with Contractions')\n",
    "\n",
    "\n",
    "#axs.ticklabel_format(axis=\"x\", style=\"sci\", scilimits=(0,0))\n",
    "\n",
    "#axs.fill_between(x=df_LP[\"step\"], y1=df_LP[\"reward\"] + df_LP[\"reward_se\"],y2=df_LP[\"reward\"] - df_LP[\"reward_se\"], alpha=.5)\n",
    "axs.legend(['ML1', 'ML2', 'ML4', 'ML8', 'ML16', \n",
    "            'RF1', 'RF2', 'RF4', 'RF8', 'RF16',], loc=1)\n"
   ]
  },
  {
   "cell_type": "code",
   "execution_count": 13,
   "metadata": {
    "scrolled": true
   },
   "outputs": [
    {
     "data": {
      "text/plain": [
       "<matplotlib.legend.Legend at 0x7f0608cda410>"
      ]
     },
     "execution_count": 13,
     "metadata": {},
     "output_type": "execute_result"
    },
    {
     "data": {
      "image/png": "[encoded data removed]",
      "text/plain": [
       "<Figure size 432x288 with 1 Axes>"
      ]
     },
     "metadata": {
      "needs_background": "light"
     },
     "output_type": "display_data"
    }
   ],
   "source": [
    "palette = sns.color_palette('Greens', 5)\n",
    "\n",
    "fig, axs = plt.subplots(ncols=1)\n",
    "sns.lineplot(x=\"Threads\", y=\"LogOperationsPerMilliSecond\", marker='p',data=df1,ax=axs, ci=99 , color=palette[0])\n",
    "sns.lineplot(x=\"Threads\", y=\"LogOperationsPerMilliSecond\", marker='p',data=df2,ax=axs, ci=99 , color=palette[1])\n",
    "sns.lineplot(x=\"Threads\", y=\"LogOperationsPerMilliSecond\", marker='p',data=df4,ax=axs, ci=99 , color=palette[2])\n",
    "sns.lineplot(x=\"Threads\", y=\"LogOperationsPerMilliSecond\", marker='p',data=df8,ax=axs, ci=99 , color=palette[3])\n",
    "sns.lineplot(x=\"Threads\", y=\"LogOperationsPerMilliSecond\", marker='p',data=df16,ax=axs, ci=99, color=palette[4])\n",
    "\n",
    "palette = sns.color_palette('magma', 5)\n",
    "sns.lineplot(x=\"Threads\", y=\"LogOperationsPerMilliSecond\", marker='',data=df1r,ax=axs, ci=99 , color=palette[0])\n",
    "sns.lineplot(x=\"Threads\", y=\"LogOperationsPerMilliSecond\", marker='',data=df2r,ax=axs, ci=99 , color=palette[1])\n",
    "sns.lineplot(x=\"Threads\", y=\"LogOperationsPerMilliSecond\", marker='',data=df4r,ax=axs, ci=99 , color=palette[2])\n",
    "sns.lineplot(x=\"Threads\", y=\"LogOperationsPerMilliSecond\", marker='',data=df8r,ax=axs, ci=99 , color=palette[3])\n",
    "sns.lineplot(x=\"Threads\", y=\"LogOperationsPerMilliSecond\", marker='',data=df16r,ax=axs, ci=99, color=palette[4])\n",
    "\n",
    "\n",
    "plt.title('LogVarying Max Loads for Split Ordered Hash Map with Contractions')\n",
    "\n",
    "\n",
    "#axs.ticklabel_format(axis=\"x\", style=\"sci\", scilimits=(0,0))\n",
    "\n",
    "#axs.fill_between(x=df_LP[\"step\"], y1=df_LP[\"reward\"] + df_LP[\"reward_se\"],y2=df_LP[\"reward\"] - df_LP[\"reward_se\"], alpha=.5)\n",
    "axs.legend(['ML1', 'ML2', 'ML4', 'ML8', 'ML16', \n",
    "            'RF1', 'RF2', 'RF4', 'RF8', 'RF16'], loc=2)\n"
   ]
  },
  {
   "cell_type": "code",
   "execution_count": null,
   "metadata": {},
   "outputs": [],
   "source": []
  },
  {
   "cell_type": "code",
   "execution_count": null,
   "metadata": {},
   "outputs": [],
   "source": []
  },
  {
   "cell_type": "code",
   "execution_count": null,
   "metadata": {},
   "outputs": [],
   "source": []
  },
  {
   "cell_type": "code",
   "execution_count": null,
   "metadata": {},
   "outputs": [],
   "source": []
  },
  {
   "cell_type": "code",
   "execution_count": null,
   "metadata": {},
   "outputs": [],
   "source": []
  },
  {
   "cell_type": "code",
   "execution_count": null,
   "metadata": {},
   "outputs": [],
   "source": []
  },
  {
   "cell_type": "code",
   "execution_count": null,
   "metadata": {},
   "outputs": [],
   "source": []
  }
 ],
 "metadata": {
  "kernelspec": {
   "display_name": "Python [conda env:tf_gpu] *",
   "language": "python",
   "name": "conda-env-tf_gpu-py"
  },
  "language_info": {
   "codemirror_mode": {
    "name": "ipython",
    "version": 3
   },
   "file_extension": ".py",
   "mimetype": "text/x-python",
   "name": "python",
   "nbconvert_exporter": "python",
   "pygments_lexer": "ipython3",
   "version": "3.7.4"
  }
 },
 "nbformat": 4,
 "nbformat_minor": 2
}
