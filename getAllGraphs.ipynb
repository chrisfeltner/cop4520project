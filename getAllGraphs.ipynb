{
 "cells": [
  {
   "cell_type": "code",
   "execution_count": 5,
   "metadata": {},
   "outputs": [
    {
     "name": "stdout",
     "output_type": "stream",
     "text": [
      "Collecting pandas\n",
      "  Downloading pandas-1.2.4-cp37-cp37m-manylinux1_x86_64.whl (9.9 MB)\n",
      "\u001b[K     |████████████████████████████████| 9.9 MB 3.7 MB/s eta 0:00:01\n",
      "\u001b[?25hRequirement already satisfied: python-dateutil>=2.7.3 in /home/brett/anaconda3/lib/python3.7/site-packages (from pandas) (2.8.1)\n",
      "Requirement already satisfied: pytz>=2017.3 in /home/brett/anaconda3/lib/python3.7/site-packages (from pandas) (2020.1)\n",
      "Requirement already satisfied: numpy>=1.16.5 in /home/brett/anaconda3/lib/python3.7/site-packages (from pandas) (1.19.5)\n",
      "Requirement already satisfied: six>=1.5 in /home/brett/anaconda3/lib/python3.7/site-packages (from python-dateutil>=2.7.3->pandas) (1.15.0)\n",
      "Installing collected packages: pandas\n",
      "\u001b[31mERROR: After October 2020 you may experience errors when installing or updating packages. This is because pip will change the way that it resolves dependency conflicts.\n",
      "\n",
      "We recommend you use --use-feature=2020-resolver to test your packages with the new resolver before it becomes the default.\n",
      "\n",
      "qiskit-aqua 0.6.1 requires h5py, which is not installed.\n",
      "qiskit-aqua 0.6.1 requires networkx>=2.2, which is not installed.\n",
      "qiskit-aqua 0.6.1 requires scikit-learn>=0.20.0, which is not installed.\n",
      "qiskit-aqua 0.6.1 requires scipy>=1.0, which is not installed.\n",
      "qiskit-aqua 0.6.1 requires sympy>=1.3, which is not installed.\u001b[0m\n",
      "Successfully installed pandas-1.2.4\n",
      "^C\n",
      "\u001b[31mERROR: Operation cancelled by user\u001b[0m\n",
      "^C\n",
      "Traceback (most recent call last):\n",
      "  File \"/home/brett/anaconda3/bin/pip\", line 11, in <module>\n",
      "    sys.exit(main())\n",
      "  File \"/home/brett/anaconda3/lib/python3.7/site-packages/pip/_internal/cli/main.py\", line 73, in main\n",
      "    command = create_command(cmd_name, isolated=(\"--isolated\" in cmd_args))\n",
      "  File \"/home/brett/anaconda3/lib/python3.7/site-packages/pip/_internal/commands/__init__.py\", line 104, in create_command\n",
      "    module = importlib.import_module(module_path)\n",
      "  File \"/home/brett/anaconda3/lib/python3.7/importlib/__init__.py\", line 127, in import_module\n",
      "    return _bootstrap._gcd_import(name[level:], package, level)\n",
      "  File \"<frozen importlib._bootstrap>\", line 1006, in _gcd_import\n",
      "  File \"<frozen importlib._bootstrap>\", line 983, in _find_and_load\n",
      "  File \"<frozen importlib._bootstrap>\", line 967, in _find_and_load_unlocked\n",
      "  File \"<frozen importlib._bootstrap>\", line 677, in _load_unlocked\n",
      "  File \"<frozen importlib._bootstrap_external>\", line 728, in exec_module\n",
      "  File \"<frozen importlib._bootstrap>\", line 219, in _call_with_frames_removed\n",
      "  File \"/home/brett/anaconda3/lib/python3.7/site-packages/pip/_internal/commands/install.py\", line 17, in <module>\n",
      "    from pip._internal.cli.req_command import RequirementCommand, with_cleanup\n",
      "  File \"/home/brett/anaconda3/lib/python3.7/site-packages/pip/_internal/cli/req_command.py\", line 22, in <module>\n",
      "    from pip._internal.req.constructors import (\n",
      "  File \"/home/brett/anaconda3/lib/python3.7/site-packages/pip/_internal/req/__init__.py\", line 9, in <module>\n",
      "    from .req_file import parse_requirements\n",
      "  File \"<frozen importlib._bootstrap>\", line 983, in _find_and_load\n",
      "  File \"<frozen importlib._bootstrap>\", line 963, in _find_and_load_unlocked\n",
      "  File \"<frozen importlib._bootstrap>\", line 906, in _find_spec\n",
      "  File \"<frozen importlib._bootstrap_external>\", line 1280, in find_spec\n",
      "  File \"<frozen importlib._bootstrap_external>\", line 1252, in _get_spec\n",
      "  File \"<frozen importlib._bootstrap_external>\", line 1396, in find_spec\n",
      "  File \"<frozen importlib._bootstrap_external>\", line 1354, in _get_spec\n",
      "  File \"<frozen importlib._bootstrap_external>\", line 574, in spec_from_file_location\n",
      "KeyboardInterrupt\n",
      "Requirement already satisfied: numpy in /home/brett/anaconda3/lib/python3.7/site-packages (1.19.5)\n"
     ]
    }
   ],
   "source": [
    "!pip install pandas\n",
    "!pip install seaborn\n",
    "!pip install matplotlib\n",
    "!pip install numpy\n",
    "\n",
    "\n",
    "\n",
    "import pandas as pd\n",
    "import seaborn as snsj\n",
    "%matplotlib inline\n",
    "import matplotlib.pyplot as plt\n",
    "import numpy as np"
   ]
  },
  {
   "cell_type": "code",
   "execution_count": null,
   "metadata": {},
   "outputs": [],
   "source": []
  },
  {
   "cell_type": "code",
   "execution_count": 2,
   "metadata": {},
   "outputs": [],
   "source": [
    "# test with one csv first, will do batch later\n",
    "csv_name = '20C-60A-20R.csv'\n",
    "\n",
    "df = pd.read_csv(csv_name)\n",
    "\n",
    "df16 = df[df['Name'] == 'splitOrderHash_MaxLoad_16']\n",
    "df16r = df[df['Name'] == 'Refinable16']\n",
    "df1c = df[df['Name'] == 'concHashMap']\n",
    "df1cs = df[df['Name'] == 'concSkipListSet']\n",
    "dataframes = [df16, df16r, df1c, df1cs]"
   ]
  },
  {
   "cell_type": "code",
   "execution_count": null,
   "metadata": {},
   "outputs": [],
   "source": []
  },
  {
   "cell_type": "code",
   "execution_count": 3,
   "metadata": {},
   "outputs": [],
   "source": [
    "#create new dataframes so that all ops/per columns averaged per each Thread. Less jagged lines. \n",
    "# do this type conversion and should be all set\n",
    "for df in dataframes:\n",
    "    df['Threads'] = df['Threads'].astype(float)\n",
    "    df['OperationsPerMilliSecond'] = df['OperationsPerMilliSecond'].astype(float)\n",
    "    df['LogOperationsPerMilliSecond'] = df['LogOperationsPerMilliSecond'].astype(float)\n",
    "\n",
    "\n"
   ]
  },
  {
   "cell_type": "code",
   "execution_count": 4,
   "metadata": {},
   "outputs": [
    {
     "ename": "NameError",
     "evalue": "name 'new_df' is not defined",
     "output_type": "error",
     "traceback": [
      "\u001b[0;31m---------------------------------------------------------------------------\u001b[0m",
      "\u001b[0;31mNameError\u001b[0m                                 Traceback (most recent call last)",
      "\u001b[0;32m<ipython-input-4-3669fb29dbf6>\u001b[0m in \u001b[0;36m<module>\u001b[0;34m\u001b[0m\n\u001b[0;32m----> 1\u001b[0;31m \u001b[0mnew_df\u001b[0m\u001b[0;34m\u001b[0m\u001b[0;34m\u001b[0m\u001b[0m\n\u001b[0m",
      "\u001b[0;31mNameError\u001b[0m: name 'new_df' is not defined"
     ]
    }
   ],
   "source": [
    "new_df"
   ]
  },
  {
   "cell_type": "code",
   "execution_count": null,
   "metadata": {
    "scrolled": false
   },
   "outputs": [],
   "source": [
    "import seaborn as sns\n",
    "palette = sns.color_palette('tab10', 5)\n",
    "\n",
    "fig, axs = plt.subplots(ncols=1)\n",
    "sns.lineplot(x=\"Threads\", y=\"OperationsPerMilliSecond\", marker='p',data=df16,ax=axs, ci=99 , color=palette[0])\n",
    "\n",
    "\n",
    "sns.lineplot(x=\"Threads\", y=\"OperationsPerMilliSecond\", marker='.',data=df16r,ax=axs, ci=99 , color=palette[1])\n",
    "sns.lineplot(x=\"Threads\", y=\"OperationsPerMilliSecond\", marker='',data=df1c,ax=axs, ci=99 , color=palette[2])\n",
    "sns.lineplot(x=\"Threads\", y=\"OperationsPerMilliSecond\", marker='',data=df1cs,ax=axs, ci=99 , color=palette[3])\n",
    "\n",
    "\n",
    "#sns.lineplot(x=\"Threads\", y=\"OperationsPerMilliSecond\", marker='+',data=df1c,ax=axs, ci=99, color='black')\n",
    "#sns.lineplot(x=\"Threads\", y=\"OperationsPerMilliSecond\", marker='+',data=df1cs,ax=axs, ci=99, color='black')\n",
    "\n",
    "\n",
    "plt.title(csv_name[0:-4])\n",
    "\n",
    "\n",
    "#axs.ticklabel_format(axis=\"x\", style=\"sci\", scilimits=(0,0))\n",
    "\n",
    "#axs.fill_between(x=df_LP[\"step\"], y1=df_LP[\"reward\"] + df_LP[\"reward_se\"],y2=df_LP[\"reward\"] - df_LP[\"reward_se\"], alpha=.5)\n",
    "axs.legend(['SplitOrderHash', 'RefinedHashSet', 'ConcurrentHashMap', 'SkipListSet'], loc=1)\n"
   ]
  },
  {
   "cell_type": "code",
   "execution_count": null,
   "metadata": {
    "scrolled": true
   },
   "outputs": [],
   "source": [
    "\n",
    "palette = sns.color_palette('tab10', 5)\n",
    "\n",
    "fig, axs = plt.subplots(ncols=1)\n",
    "sns.lineplot(x=\"Threads\", y=\"LogOperationsPerMilliSecond\", marker='p',data=df16,ax=axs, ci=99.5 , color=palette[0])\n",
    "\n",
    "\n",
    "sns.lineplot(x=\"Threads\", y=\"LogOperationsPerMilliSecond\", marker='.',data=df16r,ax=axs, ci=99.5 , color=palette[1])\n",
    "sns.lineplot(x=\"Threads\", y=\"LogOperationsPerMilliSecond\", marker='',data=df1c,ax=axs, ci=99.5 , color=palette[2])\n",
    "sns.lineplot(x=\"Threads\", y=\"LogOperationsPerMilliSecond\", marker='',data=df1cs,ax=axs, ci=99.5 , color=palette[3])\n",
    "\n",
    "\n",
    "plt.title(csv_name[0:-4])\n",
    "\n",
    "\n",
    "#axs.ticklabel_format(axis=\"x\", style=\"sci\", scilimits=(0,0))\n",
    "\n",
    "#axs.fill_between(x=df_LP[\"step\"], y1=df_LP[\"reward\"] + df_LP[\"reward_se\"],y2=df_LP[\"reward\"] - df_LP[\"reward_se\"], alpha=.5)\n",
    "axs.legend(['SplitOrderHash', 'RefinedHashSet', 'ConcurrentHashMap', 'SkipListSet'], loc=1)\n",
    "\n"
   ]
  },
  {
   "cell_type": "code",
   "execution_count": null,
   "metadata": {},
   "outputs": [],
   "source": [
    "CASS_CLUSTER=True\n",
    "\n",
    "if CASS_CLUSTER:\n",
    "    csv_names = ['cass2/thirdsDist.csv',\n",
    "                 'cass2/20C-40A-40R.csv', \n",
    "                 'cass2/10C-45A-45R.csv', \n",
    "                 'cass2/2C-49A-49R.csv', \n",
    "                 'cass2/40C-40A-20R.csv', \n",
    "                 'cass2/20C-60A-20R.csv', \n",
    "                 'cass2/10C-80A-10R.csv']\n",
    "else:\n",
    "    csv_names = ['thirdsDist.csv','20C-40A-40R.csv', '10C-45A-45R.csv', \n",
    "                 '2C-49A-49R.csv', '40C-40A-20R.csv', '20C-60A-20R.csv', \n",
    "                 '10C-80A-10R.csv']\n",
    "\n",
    "\n",
    "for csv_name in csv_names:\n",
    "    df = pd.read_csv(csv_name)\n",
    "    df16 = df[df['Name'] == 'splitOrderHash_MaxLoad_16']\n",
    "    df16r = df[df['Name'] == 'Refinable16']\n",
    "    df1c = df[df['Name'] == 'concHashMap']\n",
    "    df1cs = df[df['Name'] == 'concSkipListSet']\n",
    "    df1sh = df[df['Name'] == 'syncHashSet']\n",
    "\n",
    "    dataframes = [df16, df16r, df1c, df1cs, df1sh]\n",
    "    for df in dataframes:\n",
    "        df['Threads'] = df['Threads'].astype(float)\n",
    "        df['OperationsPerMilliSecond'] = df['OperationsPerMilliSecond'].astype(float)\n",
    "        df['LogOperationsPerMilliSecond'] = df['LogOperationsPerMilliSecond'].astype(float)\n",
    "        \n",
    "    \n",
    "    palette = sns.color_palette('tab10', 5)\n",
    "\n",
    "    fig, axs = plt.subplots(ncols=1)\n",
    "    sns.lineplot(x=\"Threads\", y=\"LogOperationsPerMilliSecond\", marker='p',data=df16,ax=axs, ci=99.5 , color=palette[0])\n",
    "\n",
    "\n",
    "    sns.lineplot(x=\"Threads\", y=\"LogOperationsPerMilliSecond\", marker='.',data=df16r,ax=axs, ci=99.5 , color=palette[1])\n",
    "    sns.lineplot(x=\"Threads\", y=\"LogOperationsPerMilliSecond\", marker='',data=df1c,ax=axs, ci=99.5 , color=palette[2])\n",
    "    sns.lineplot(x=\"Threads\", y=\"LogOperationsPerMilliSecond\", marker='',data=df1cs,ax=axs, ci=99.5 , color=palette[3])\n",
    "    sns.lineplot(x=\"Threads\", y=\"LogOperationsPerMilliSecond\", marker='',data=df1sh,ax=axs, ci=99.5 , color=palette[4])\n",
    "\n",
    "\n",
    "    #plt.title(csv_name[0:-4])\n",
    "\n",
    "\n",
    "    #axs.ticklabel_format(axis=\"x\", style=\"sci\", scilimits=(0,0))\n",
    "\n",
    "    #axs.fill_between(x=df_LP[\"step\"], y1=df_LP[\"reward\"] + df_LP[\"reward_se\"],y2=df_LP[\"reward\"] - df_LP[\"reward_se\"], alpha=.5)\n",
    "    axs.legend(['SplitOrderHash', 'RefinedHashSet', 'ConcurrentHashMap', 'SkipListSet', 'SynchHashSet'], loc=1)\n",
    "    plt.savefig('figs/' + csv_name[0:-4] + '.png')\n",
    "\n",
    "    \n"
   ]
  },
  {
   "cell_type": "code",
   "execution_count": null,
   "metadata": {},
   "outputs": [],
   "source": [
    "df1"
   ]
  },
  {
   "cell_type": "code",
   "execution_count": null,
   "metadata": {},
   "outputs": [],
   "source": []
  }
 ],
 "metadata": {
  "kernelspec": {
   "display_name": "PyCharm (nfsp)",
   "language": "python",
   "name": "pycharm-18eaeb1"
  },
  "language_info": {
   "codemirror_mode": {
    "name": "ipython",
    "version": 3
   },
   "file_extension": ".py",
   "mimetype": "text/x-python",
   "name": "python",
   "nbconvert_exporter": "python",
   "pygments_lexer": "ipython3",
   "version": "3.7.7"
  }
 },
 "nbformat": 4,
 "nbformat_minor": 2
}
